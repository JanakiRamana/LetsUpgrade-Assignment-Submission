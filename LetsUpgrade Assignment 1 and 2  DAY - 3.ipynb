{
 "cells": [
  {
   "cell_type": "markdown",
   "metadata": {},
   "source": [
    "# Assignment - 1\n",
    "You all are Pilots, you want to land a plane safely, so WAP to take current altitude as input and check wheather the altitude is less than 1000 ft to land the plane. or more than 1000ft, and if it's less than 5000ft ask pilot to bring it further downs to 1000ft and if it is more than 5000ft then ask the pilot to turn around and attempt later."
   ]
  },
  {
   "cell_type": "code",
   "execution_count": 2,
   "metadata": {},
   "outputs": [
    {
     "name": "stdout",
     "output_type": "stream",
     "text": [
      "Please enter the landing height - 1000\n",
      "safe to land\n"
     ]
    }
   ],
   "source": [
    "num = input(\"Please enter the landing height - \")\n",
    "\n",
    "num = int(num)\n",
    "\n",
    "if num% 1000 == 0:\n",
    "    print(\"safe to land\")"
   ]
  },
  {
   "cell_type": "code",
   "execution_count": 3,
   "metadata": {},
   "outputs": [
    {
     "name": "stdout",
     "output_type": "stream",
     "text": [
      "Please enter the landing height - 4500\n",
      "Bring down to 1000\n"
     ]
    }
   ],
   "source": [
    "num = input(\"Please enter the landing height - \")\n",
    "\n",
    "num = int(num)\n",
    "\n",
    "if num% 4500 == 0:\n",
    "    print(\"Bring down to 1000\")"
   ]
  },
  {
   "cell_type": "code",
   "execution_count": 4,
   "metadata": {},
   "outputs": [
    {
     "name": "stdout",
     "output_type": "stream",
     "text": [
      "Please enter the landing height - 6500\n",
      "Turn Around\n"
     ]
    }
   ],
   "source": [
    "num = input(\"Please enter the landing height - \")\n",
    "\n",
    "num = int(num)\n",
    "\n",
    "if num% 6500 == 0:\n",
    "    print(\"Turn Around\")"
   ]
  },
  {
   "cell_type": "markdown",
   "metadata": {},
   "source": [
    "# Assignment - 2\n",
    "Using for loop please print all the prime numbers between 1 - 200 using FOR LOOP and RANGE function"
   ]
  },
  {
   "cell_type": "code",
   "execution_count": 14,
   "metadata": {},
   "outputs": [
    {
     "name": "stdout",
     "output_type": "stream",
     "text": [
      "2 3 5 7 11 13 17 19 23 29 31 37 41 43 47 53 59 61 67 71 73 79 83 89 97 101 103 107 109 113 127 131 137 139 149 151 157 163 167 173 179 181 191 193 197 199 "
     ]
    }
   ],
   "source": [
    "for number in range (1,200):\n",
    "    num = 0\n",
    "    for i in range(2, (number//2 + 1)):\n",
    "        if (number % i == 0):\n",
    "            num = num + 1\n",
    "            break\n",
    "         \n",
    "    if (num == 0 and number != 1):\n",
    "        print(\"%d\" %number, end = ' ')"
   ]
  },
  {
   "cell_type": "code",
   "execution_count": null,
   "metadata": {},
   "outputs": [],
   "source": []
  }
 ],
 "metadata": {
  "kernelspec": {
   "display_name": "Python 3",
   "language": "python",
   "name": "python3"
  },
  "language_info": {
   "codemirror_mode": {
    "name": "ipython",
    "version": 3
   },
   "file_extension": ".py",
   "mimetype": "text/x-python",
   "name": "python",
   "nbconvert_exporter": "python",
   "pygments_lexer": "ipython3",
   "version": "3.8.3"
  }
 },
 "nbformat": 4,
 "nbformat_minor": 4
}
